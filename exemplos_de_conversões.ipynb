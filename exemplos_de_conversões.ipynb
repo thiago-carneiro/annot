{
  "nbformat": 4,
  "nbformat_minor": 0,
  "metadata": {
    "colab": {
      "name": "exemplos de conversões.ipynb",
      "provenance": [],
      "authorship_tag": "ABX9TyMsNPR1YaaxjubXr+zqPjtD",
      "include_colab_link": true
    },
    "kernelspec": {
      "name": "python3",
      "display_name": "Python 3"
    }
  },
  "cells": [
    {
      "cell_type": "markdown",
      "metadata": {
        "id": "view-in-github",
        "colab_type": "text"
      },
      "source": [
        "<a href=\"https://colab.research.google.com/github/thiago-carneiro/annot/blob/main/exemplos_de_convers%C3%B5es.ipynb\" target=\"_parent\"><img src=\"https://colab.research.google.com/assets/colab-badge.svg\" alt=\"Open In Colab\"/></a>"
      ]
    },
    {
      "cell_type": "markdown",
      "metadata": {
        "id": "gB4OFViGVG5k"
      },
      "source": [
        "# Exemplos de conversões entre diferentes tipos, funções de arredondamento e de manipulação de texto\r\n",
        "\r\n",
        "por Thiago Carneiro: https://github.com/thiago-carneiro"
      ]
    },
    {
      "cell_type": "markdown",
      "metadata": {
        "id": "OKQzKgFdUt_P"
      },
      "source": [
        "## Criando o DataFrame com múltiplos formatos básicos"
      ]
    },
    {
      "cell_type": "code",
      "metadata": {
        "colab": {
          "base_uri": "https://localhost:8080/"
        },
        "id": "7FzK52mBF6ff",
        "outputId": "8efcbf35-9247-4991-c76f-92bc91c8aa98"
      },
      "source": [
        "lista_inteiros = list(range(11))\r\n",
        "lista_inteiros"
      ],
      "execution_count": 1,
      "outputs": [
        {
          "output_type": "execute_result",
          "data": {
            "text/plain": [
              "[0, 1, 2, 3, 4, 5, 6, 7, 8, 9, 10]"
            ]
          },
          "metadata": {
            "tags": []
          },
          "execution_count": 1
        }
      ]
    },
    {
      "cell_type": "code",
      "metadata": {
        "colab": {
          "base_uri": "https://localhost:8080/"
        },
        "id": "w3letSeMGOdu",
        "outputId": "fe126040-9605-4c19-953a-f000c18551c9"
      },
      "source": [
        "lista_reais = list(map(float,lista_inteiros))\r\n",
        "lista_reais"
      ],
      "execution_count": 2,
      "outputs": [
        {
          "output_type": "execute_result",
          "data": {
            "text/plain": [
              "[0.0, 1.0, 2.0, 3.0, 4.0, 5.0, 6.0, 7.0, 8.0, 9.0, 10.0]"
            ]
          },
          "metadata": {
            "tags": []
          },
          "execution_count": 2
        }
      ]
    },
    {
      "cell_type": "code",
      "metadata": {
        "colab": {
          "base_uri": "https://localhost:8080/"
        },
        "id": "eecDw1yIGgcb",
        "outputId": "01d9a7d2-1f3f-49ad-c8ce-715524440ab1"
      },
      "source": [
        "lista_strings = list(map(str,lista_reais))\r\n",
        "lista_strings"
      ],
      "execution_count": 3,
      "outputs": [
        {
          "output_type": "execute_result",
          "data": {
            "text/plain": [
              "['0.0', '1.0', '2.0', '3.0', '4.0', '5.0', '6.0', '7.0', '8.0', '9.0', '10.0']"
            ]
          },
          "metadata": {
            "tags": []
          },
          "execution_count": 3
        }
      ]
    },
    {
      "cell_type": "code",
      "metadata": {
        "colab": {
          "base_uri": "https://localhost:8080/"
        },
        "id": "uclxq05xGouE",
        "outputId": "61c083a6-927b-480a-9865-37022b37b02d"
      },
      "source": [
        "\"\"\"\r\n",
        "poderia ter inserido as colunas uma a uma direto no dataframe tb:\r\n",
        "\r\n",
        "df[coluna]=coluna\r\n",
        "\r\n",
        "de certa forma me sinto mais à vontade com as estruturas básicas do\r\n",
        "Python (velhos hábitos...), mas aqui realmente vejo que exagerei... rs\r\n",
        "\"\"\"\r\n",
        "\r\n",
        "dicionario_de_listas = dict()\r\n",
        "dicionario_de_listas['inteiros']=lista_inteiros\r\n",
        "dicionario_de_listas['reais']=lista_reais\r\n",
        "dicionario_de_listas['strings']=lista_strings\r\n",
        "dicionario_de_listas"
      ],
      "execution_count": 4,
      "outputs": [
        {
          "output_type": "execute_result",
          "data": {
            "text/plain": [
              "{'inteiros': [0, 1, 2, 3, 4, 5, 6, 7, 8, 9, 10],\n",
              " 'reais': [0.0, 1.0, 2.0, 3.0, 4.0, 5.0, 6.0, 7.0, 8.0, 9.0, 10.0],\n",
              " 'strings': ['0.0',\n",
              "  '1.0',\n",
              "  '2.0',\n",
              "  '3.0',\n",
              "  '4.0',\n",
              "  '5.0',\n",
              "  '6.0',\n",
              "  '7.0',\n",
              "  '8.0',\n",
              "  '9.0',\n",
              "  '10.0']}"
            ]
          },
          "metadata": {
            "tags": []
          },
          "execution_count": 4
        }
      ]
    },
    {
      "cell_type": "code",
      "metadata": {
        "colab": {
          "base_uri": "https://localhost:8080/",
          "height": 390
        },
        "id": "Gpmb-N1KHH60",
        "outputId": "d12d3adf-32ac-47a4-8106-5fd083346229"
      },
      "source": [
        "import pandas as pd\r\n",
        "\r\n",
        "df = pd.DataFrame(dicionario_de_listas)\r\n",
        "df"
      ],
      "execution_count": 5,
      "outputs": [
        {
          "output_type": "execute_result",
          "data": {
            "text/html": [
              "<div>\n",
              "<style scoped>\n",
              "    .dataframe tbody tr th:only-of-type {\n",
              "        vertical-align: middle;\n",
              "    }\n",
              "\n",
              "    .dataframe tbody tr th {\n",
              "        vertical-align: top;\n",
              "    }\n",
              "\n",
              "    .dataframe thead th {\n",
              "        text-align: right;\n",
              "    }\n",
              "</style>\n",
              "<table border=\"1\" class=\"dataframe\">\n",
              "  <thead>\n",
              "    <tr style=\"text-align: right;\">\n",
              "      <th></th>\n",
              "      <th>inteiros</th>\n",
              "      <th>reais</th>\n",
              "      <th>strings</th>\n",
              "    </tr>\n",
              "  </thead>\n",
              "  <tbody>\n",
              "    <tr>\n",
              "      <th>0</th>\n",
              "      <td>0</td>\n",
              "      <td>0.0</td>\n",
              "      <td>0.0</td>\n",
              "    </tr>\n",
              "    <tr>\n",
              "      <th>1</th>\n",
              "      <td>1</td>\n",
              "      <td>1.0</td>\n",
              "      <td>1.0</td>\n",
              "    </tr>\n",
              "    <tr>\n",
              "      <th>2</th>\n",
              "      <td>2</td>\n",
              "      <td>2.0</td>\n",
              "      <td>2.0</td>\n",
              "    </tr>\n",
              "    <tr>\n",
              "      <th>3</th>\n",
              "      <td>3</td>\n",
              "      <td>3.0</td>\n",
              "      <td>3.0</td>\n",
              "    </tr>\n",
              "    <tr>\n",
              "      <th>4</th>\n",
              "      <td>4</td>\n",
              "      <td>4.0</td>\n",
              "      <td>4.0</td>\n",
              "    </tr>\n",
              "    <tr>\n",
              "      <th>5</th>\n",
              "      <td>5</td>\n",
              "      <td>5.0</td>\n",
              "      <td>5.0</td>\n",
              "    </tr>\n",
              "    <tr>\n",
              "      <th>6</th>\n",
              "      <td>6</td>\n",
              "      <td>6.0</td>\n",
              "      <td>6.0</td>\n",
              "    </tr>\n",
              "    <tr>\n",
              "      <th>7</th>\n",
              "      <td>7</td>\n",
              "      <td>7.0</td>\n",
              "      <td>7.0</td>\n",
              "    </tr>\n",
              "    <tr>\n",
              "      <th>8</th>\n",
              "      <td>8</td>\n",
              "      <td>8.0</td>\n",
              "      <td>8.0</td>\n",
              "    </tr>\n",
              "    <tr>\n",
              "      <th>9</th>\n",
              "      <td>9</td>\n",
              "      <td>9.0</td>\n",
              "      <td>9.0</td>\n",
              "    </tr>\n",
              "    <tr>\n",
              "      <th>10</th>\n",
              "      <td>10</td>\n",
              "      <td>10.0</td>\n",
              "      <td>10.0</td>\n",
              "    </tr>\n",
              "  </tbody>\n",
              "</table>\n",
              "</div>"
            ],
            "text/plain": [
              "    inteiros  reais strings\n",
              "0          0    0.0     0.0\n",
              "1          1    1.0     1.0\n",
              "2          2    2.0     2.0\n",
              "3          3    3.0     3.0\n",
              "4          4    4.0     4.0\n",
              "5          5    5.0     5.0\n",
              "6          6    6.0     6.0\n",
              "7          7    7.0     7.0\n",
              "8          8    8.0     8.0\n",
              "9          9    9.0     9.0\n",
              "10        10   10.0    10.0"
            ]
          },
          "metadata": {
            "tags": []
          },
          "execution_count": 5
        }
      ]
    },
    {
      "cell_type": "markdown",
      "metadata": {
        "id": "tD5EpVrbU7z9"
      },
      "source": [
        "## Conversões entre tipos"
      ]
    },
    {
      "cell_type": "code",
      "metadata": {
        "colab": {
          "base_uri": "https://localhost:8080/",
          "height": 390
        },
        "id": "oPwlDW5hHSbm",
        "outputId": "a3abb465-c88f-428c-9b6b-ffde0fb4bd86"
      },
      "source": [
        "\"\"\"\r\n",
        "em geral, prefiro aplicar as funções do Pandas, pois podem estar otimizadas,\r\n",
        "mas na pressa ou caso não lembre a função, pode ser feito tb com apply:\r\n",
        "\r\n",
        "df['reais_para_inteiros']=df['reais'].apply(int)\r\n",
        "\"\"\"\r\n",
        "\r\n",
        "df['reais_para_inteiros']=df['reais'].astype(int)\r\n",
        "df[['reais','reais_para_inteiros']]"
      ],
      "execution_count": 6,
      "outputs": [
        {
          "output_type": "execute_result",
          "data": {
            "text/html": [
              "<div>\n",
              "<style scoped>\n",
              "    .dataframe tbody tr th:only-of-type {\n",
              "        vertical-align: middle;\n",
              "    }\n",
              "\n",
              "    .dataframe tbody tr th {\n",
              "        vertical-align: top;\n",
              "    }\n",
              "\n",
              "    .dataframe thead th {\n",
              "        text-align: right;\n",
              "    }\n",
              "</style>\n",
              "<table border=\"1\" class=\"dataframe\">\n",
              "  <thead>\n",
              "    <tr style=\"text-align: right;\">\n",
              "      <th></th>\n",
              "      <th>reais</th>\n",
              "      <th>reais_para_inteiros</th>\n",
              "    </tr>\n",
              "  </thead>\n",
              "  <tbody>\n",
              "    <tr>\n",
              "      <th>0</th>\n",
              "      <td>0.0</td>\n",
              "      <td>0</td>\n",
              "    </tr>\n",
              "    <tr>\n",
              "      <th>1</th>\n",
              "      <td>1.0</td>\n",
              "      <td>1</td>\n",
              "    </tr>\n",
              "    <tr>\n",
              "      <th>2</th>\n",
              "      <td>2.0</td>\n",
              "      <td>2</td>\n",
              "    </tr>\n",
              "    <tr>\n",
              "      <th>3</th>\n",
              "      <td>3.0</td>\n",
              "      <td>3</td>\n",
              "    </tr>\n",
              "    <tr>\n",
              "      <th>4</th>\n",
              "      <td>4.0</td>\n",
              "      <td>4</td>\n",
              "    </tr>\n",
              "    <tr>\n",
              "      <th>5</th>\n",
              "      <td>5.0</td>\n",
              "      <td>5</td>\n",
              "    </tr>\n",
              "    <tr>\n",
              "      <th>6</th>\n",
              "      <td>6.0</td>\n",
              "      <td>6</td>\n",
              "    </tr>\n",
              "    <tr>\n",
              "      <th>7</th>\n",
              "      <td>7.0</td>\n",
              "      <td>7</td>\n",
              "    </tr>\n",
              "    <tr>\n",
              "      <th>8</th>\n",
              "      <td>8.0</td>\n",
              "      <td>8</td>\n",
              "    </tr>\n",
              "    <tr>\n",
              "      <th>9</th>\n",
              "      <td>9.0</td>\n",
              "      <td>9</td>\n",
              "    </tr>\n",
              "    <tr>\n",
              "      <th>10</th>\n",
              "      <td>10.0</td>\n",
              "      <td>10</td>\n",
              "    </tr>\n",
              "  </tbody>\n",
              "</table>\n",
              "</div>"
            ],
            "text/plain": [
              "    reais  reais_para_inteiros\n",
              "0     0.0                    0\n",
              "1     1.0                    1\n",
              "2     2.0                    2\n",
              "3     3.0                    3\n",
              "4     4.0                    4\n",
              "5     5.0                    5\n",
              "6     6.0                    6\n",
              "7     7.0                    7\n",
              "8     8.0                    8\n",
              "9     9.0                    9\n",
              "10   10.0                   10"
            ]
          },
          "metadata": {
            "tags": []
          },
          "execution_count": 6
        }
      ]
    },
    {
      "cell_type": "code",
      "metadata": {
        "colab": {
          "base_uri": "https://localhost:8080/",
          "height": 390
        },
        "id": "PUP8Ryp3HuBZ",
        "outputId": "91d91812-e6c3-4d94-a286-83d590852a5c"
      },
      "source": [
        "\"\"\"\r\n",
        "se fosse com apply, precisaria usar uma função lambda pra concatenar as funções:\r\n",
        "\r\n",
        "df['strings_para_inteiros']=df['strings'].apply( lambda x : int(float(x)) )\r\n",
        "\"\"\"\r\n",
        "\r\n",
        "df['strings_para_inteiros']=df['strings'].astype('float').astype('int')\r\n",
        "df[['strings','strings_para_inteiros']]"
      ],
      "execution_count": 7,
      "outputs": [
        {
          "output_type": "execute_result",
          "data": {
            "text/html": [
              "<div>\n",
              "<style scoped>\n",
              "    .dataframe tbody tr th:only-of-type {\n",
              "        vertical-align: middle;\n",
              "    }\n",
              "\n",
              "    .dataframe tbody tr th {\n",
              "        vertical-align: top;\n",
              "    }\n",
              "\n",
              "    .dataframe thead th {\n",
              "        text-align: right;\n",
              "    }\n",
              "</style>\n",
              "<table border=\"1\" class=\"dataframe\">\n",
              "  <thead>\n",
              "    <tr style=\"text-align: right;\">\n",
              "      <th></th>\n",
              "      <th>strings</th>\n",
              "      <th>strings_para_inteiros</th>\n",
              "    </tr>\n",
              "  </thead>\n",
              "  <tbody>\n",
              "    <tr>\n",
              "      <th>0</th>\n",
              "      <td>0.0</td>\n",
              "      <td>0</td>\n",
              "    </tr>\n",
              "    <tr>\n",
              "      <th>1</th>\n",
              "      <td>1.0</td>\n",
              "      <td>1</td>\n",
              "    </tr>\n",
              "    <tr>\n",
              "      <th>2</th>\n",
              "      <td>2.0</td>\n",
              "      <td>2</td>\n",
              "    </tr>\n",
              "    <tr>\n",
              "      <th>3</th>\n",
              "      <td>3.0</td>\n",
              "      <td>3</td>\n",
              "    </tr>\n",
              "    <tr>\n",
              "      <th>4</th>\n",
              "      <td>4.0</td>\n",
              "      <td>4</td>\n",
              "    </tr>\n",
              "    <tr>\n",
              "      <th>5</th>\n",
              "      <td>5.0</td>\n",
              "      <td>5</td>\n",
              "    </tr>\n",
              "    <tr>\n",
              "      <th>6</th>\n",
              "      <td>6.0</td>\n",
              "      <td>6</td>\n",
              "    </tr>\n",
              "    <tr>\n",
              "      <th>7</th>\n",
              "      <td>7.0</td>\n",
              "      <td>7</td>\n",
              "    </tr>\n",
              "    <tr>\n",
              "      <th>8</th>\n",
              "      <td>8.0</td>\n",
              "      <td>8</td>\n",
              "    </tr>\n",
              "    <tr>\n",
              "      <th>9</th>\n",
              "      <td>9.0</td>\n",
              "      <td>9</td>\n",
              "    </tr>\n",
              "    <tr>\n",
              "      <th>10</th>\n",
              "      <td>10.0</td>\n",
              "      <td>10</td>\n",
              "    </tr>\n",
              "  </tbody>\n",
              "</table>\n",
              "</div>"
            ],
            "text/plain": [
              "   strings  strings_para_inteiros\n",
              "0      0.0                      0\n",
              "1      1.0                      1\n",
              "2      2.0                      2\n",
              "3      3.0                      3\n",
              "4      4.0                      4\n",
              "5      5.0                      5\n",
              "6      6.0                      6\n",
              "7      7.0                      7\n",
              "8      8.0                      8\n",
              "9      9.0                      9\n",
              "10    10.0                     10"
            ]
          },
          "metadata": {
            "tags": []
          },
          "execution_count": 7
        }
      ]
    },
    {
      "cell_type": "markdown",
      "metadata": {
        "id": "VFDWrR1QVgq4"
      },
      "source": [
        "## Manipulação dos números representados como strings"
      ]
    },
    {
      "cell_type": "code",
      "metadata": {
        "colab": {
          "base_uri": "https://localhost:8080/",
          "height": 390
        },
        "id": "JJGLzeC4LHCT",
        "outputId": "ac699f20-7d04-4de0-ce4f-61fe721a34e5"
      },
      "source": [
        "\"\"\"\r\n",
        "embora uma das razões de ser das funções lambda seja evitar ter que nomeá-las,\r\n",
        "às vezes armazená-las numa variávei com nome esclarecedor pode deixar o código\r\n",
        "mais claro, na minha opinião.\r\n",
        "\r\n",
        "Se quisesse ser _muito_ preciosista, poderia apagar a variável depois:\r\n",
        "\r\n",
        "del slice_ate_ponto\r\n",
        "\"\"\"\r\n",
        "\r\n",
        "slice_ate_ponto = lambda x : x[0:x.find('.')]\r\n",
        "df['strings_usando_slice']=df['strings'].apply(slice_ate_ponto)\r\n",
        "df[['strings','strings_usando_slice']]"
      ],
      "execution_count": 8,
      "outputs": [
        {
          "output_type": "execute_result",
          "data": {
            "text/html": [
              "<div>\n",
              "<style scoped>\n",
              "    .dataframe tbody tr th:only-of-type {\n",
              "        vertical-align: middle;\n",
              "    }\n",
              "\n",
              "    .dataframe tbody tr th {\n",
              "        vertical-align: top;\n",
              "    }\n",
              "\n",
              "    .dataframe thead th {\n",
              "        text-align: right;\n",
              "    }\n",
              "</style>\n",
              "<table border=\"1\" class=\"dataframe\">\n",
              "  <thead>\n",
              "    <tr style=\"text-align: right;\">\n",
              "      <th></th>\n",
              "      <th>strings</th>\n",
              "      <th>strings_usando_slice</th>\n",
              "    </tr>\n",
              "  </thead>\n",
              "  <tbody>\n",
              "    <tr>\n",
              "      <th>0</th>\n",
              "      <td>0.0</td>\n",
              "      <td>0</td>\n",
              "    </tr>\n",
              "    <tr>\n",
              "      <th>1</th>\n",
              "      <td>1.0</td>\n",
              "      <td>1</td>\n",
              "    </tr>\n",
              "    <tr>\n",
              "      <th>2</th>\n",
              "      <td>2.0</td>\n",
              "      <td>2</td>\n",
              "    </tr>\n",
              "    <tr>\n",
              "      <th>3</th>\n",
              "      <td>3.0</td>\n",
              "      <td>3</td>\n",
              "    </tr>\n",
              "    <tr>\n",
              "      <th>4</th>\n",
              "      <td>4.0</td>\n",
              "      <td>4</td>\n",
              "    </tr>\n",
              "    <tr>\n",
              "      <th>5</th>\n",
              "      <td>5.0</td>\n",
              "      <td>5</td>\n",
              "    </tr>\n",
              "    <tr>\n",
              "      <th>6</th>\n",
              "      <td>6.0</td>\n",
              "      <td>6</td>\n",
              "    </tr>\n",
              "    <tr>\n",
              "      <th>7</th>\n",
              "      <td>7.0</td>\n",
              "      <td>7</td>\n",
              "    </tr>\n",
              "    <tr>\n",
              "      <th>8</th>\n",
              "      <td>8.0</td>\n",
              "      <td>8</td>\n",
              "    </tr>\n",
              "    <tr>\n",
              "      <th>9</th>\n",
              "      <td>9.0</td>\n",
              "      <td>9</td>\n",
              "    </tr>\n",
              "    <tr>\n",
              "      <th>10</th>\n",
              "      <td>10.0</td>\n",
              "      <td>10</td>\n",
              "    </tr>\n",
              "  </tbody>\n",
              "</table>\n",
              "</div>"
            ],
            "text/plain": [
              "   strings strings_usando_slice\n",
              "0      0.0                    0\n",
              "1      1.0                    1\n",
              "2      2.0                    2\n",
              "3      3.0                    3\n",
              "4      4.0                    4\n",
              "5      5.0                    5\n",
              "6      6.0                    6\n",
              "7      7.0                    7\n",
              "8      8.0                    8\n",
              "9      9.0                    9\n",
              "10    10.0                   10"
            ]
          },
          "metadata": {
            "tags": []
          },
          "execution_count": 8
        }
      ]
    },
    {
      "cell_type": "markdown",
      "metadata": {
        "id": "IXTYVy2GVxtd"
      },
      "source": [
        "### pequena digressão"
      ]
    },
    {
      "cell_type": "code",
      "metadata": {
        "colab": {
          "base_uri": "https://localhost:8080/"
        },
        "id": "XOP-pG0OTdq1",
        "outputId": "9f2f8839-d86b-4719-e2a3-94da981a9e76"
      },
      "source": [
        "#a função lambda continua existindo:\r\n",
        "slice_ate_ponto"
      ],
      "execution_count": 9,
      "outputs": [
        {
          "output_type": "execute_result",
          "data": {
            "text/plain": [
              "<function __main__.<lambda>>"
            ]
          },
          "metadata": {
            "tags": []
          },
          "execution_count": 9
        }
      ]
    },
    {
      "cell_type": "code",
      "metadata": {
        "id": "p4wdGRa4ThsH"
      },
      "source": [
        "#apagando a variável (desnecessário, mas fica pra exemplo)\r\n",
        "del slice_ate_ponto"
      ],
      "execution_count": 10,
      "outputs": []
    },
    {
      "cell_type": "code",
      "metadata": {
        "colab": {
          "base_uri": "https://localhost:8080/"
        },
        "id": "RnWgLKUNT-sa",
        "outputId": "2c59663d-dd1c-4299-8419-66d3739c1084"
      },
      "source": [
        "#erro de variável não encontrada\r\n",
        "try:\r\n",
        "  slice_ate_ponto\r\n",
        "except Exception as e:\r\n",
        "  print(e)"
      ],
      "execution_count": 11,
      "outputs": [
        {
          "output_type": "stream",
          "text": [
            "name 'slice_ate_ponto' is not defined\n"
          ],
          "name": "stdout"
        }
      ]
    },
    {
      "cell_type": "code",
      "metadata": {
        "colab": {
          "base_uri": "https://localhost:8080/",
          "height": 390
        },
        "id": "eAsBKX2PPuEy",
        "outputId": "34b81532-ea19-4fd4-fd6d-d69b736a791c"
      },
      "source": [
        "df['strings_para_formato_BR']=df['strings'].str.replace('.',',')\r\n",
        "df[['strings','strings_para_formato_BR']]"
      ],
      "execution_count": 12,
      "outputs": [
        {
          "output_type": "execute_result",
          "data": {
            "text/html": [
              "<div>\n",
              "<style scoped>\n",
              "    .dataframe tbody tr th:only-of-type {\n",
              "        vertical-align: middle;\n",
              "    }\n",
              "\n",
              "    .dataframe tbody tr th {\n",
              "        vertical-align: top;\n",
              "    }\n",
              "\n",
              "    .dataframe thead th {\n",
              "        text-align: right;\n",
              "    }\n",
              "</style>\n",
              "<table border=\"1\" class=\"dataframe\">\n",
              "  <thead>\n",
              "    <tr style=\"text-align: right;\">\n",
              "      <th></th>\n",
              "      <th>strings</th>\n",
              "      <th>strings_para_formato_BR</th>\n",
              "    </tr>\n",
              "  </thead>\n",
              "  <tbody>\n",
              "    <tr>\n",
              "      <th>0</th>\n",
              "      <td>0.0</td>\n",
              "      <td>0,0</td>\n",
              "    </tr>\n",
              "    <tr>\n",
              "      <th>1</th>\n",
              "      <td>1.0</td>\n",
              "      <td>1,0</td>\n",
              "    </tr>\n",
              "    <tr>\n",
              "      <th>2</th>\n",
              "      <td>2.0</td>\n",
              "      <td>2,0</td>\n",
              "    </tr>\n",
              "    <tr>\n",
              "      <th>3</th>\n",
              "      <td>3.0</td>\n",
              "      <td>3,0</td>\n",
              "    </tr>\n",
              "    <tr>\n",
              "      <th>4</th>\n",
              "      <td>4.0</td>\n",
              "      <td>4,0</td>\n",
              "    </tr>\n",
              "    <tr>\n",
              "      <th>5</th>\n",
              "      <td>5.0</td>\n",
              "      <td>5,0</td>\n",
              "    </tr>\n",
              "    <tr>\n",
              "      <th>6</th>\n",
              "      <td>6.0</td>\n",
              "      <td>6,0</td>\n",
              "    </tr>\n",
              "    <tr>\n",
              "      <th>7</th>\n",
              "      <td>7.0</td>\n",
              "      <td>7,0</td>\n",
              "    </tr>\n",
              "    <tr>\n",
              "      <th>8</th>\n",
              "      <td>8.0</td>\n",
              "      <td>8,0</td>\n",
              "    </tr>\n",
              "    <tr>\n",
              "      <th>9</th>\n",
              "      <td>9.0</td>\n",
              "      <td>9,0</td>\n",
              "    </tr>\n",
              "    <tr>\n",
              "      <th>10</th>\n",
              "      <td>10.0</td>\n",
              "      <td>10,0</td>\n",
              "    </tr>\n",
              "  </tbody>\n",
              "</table>\n",
              "</div>"
            ],
            "text/plain": [
              "   strings strings_para_formato_BR\n",
              "0      0.0                     0,0\n",
              "1      1.0                     1,0\n",
              "2      2.0                     2,0\n",
              "3      3.0                     3,0\n",
              "4      4.0                     4,0\n",
              "5      5.0                     5,0\n",
              "6      6.0                     6,0\n",
              "7      7.0                     7,0\n",
              "8      8.0                     8,0\n",
              "9      9.0                     9,0\n",
              "10    10.0                    10,0"
            ]
          },
          "metadata": {
            "tags": []
          },
          "execution_count": 12
        }
      ]
    },
    {
      "cell_type": "markdown",
      "metadata": {
        "id": "qZgZZ0AWV2Pg"
      },
      "source": [
        "## Funções de arredondamento"
      ]
    },
    {
      "cell_type": "code",
      "metadata": {
        "colab": {
          "base_uri": "https://localhost:8080/",
          "height": 390
        },
        "id": "HAZyxY8mIJBJ",
        "outputId": "f5088f13-9e80-47d2-b7b0-56d456ca4ae1"
      },
      "source": [
        "df['reais_mais_0.01']=df['reais']+0.01\r\n",
        "df['reais_mais_0.50']=df['reais']+0.5\r\n",
        "df['reais_mais_0.51']=df['reais']+0.51\r\n",
        "df[['reais','reais_mais_0.01','reais_mais_0.50','reais_mais_0.51']]"
      ],
      "execution_count": 13,
      "outputs": [
        {
          "output_type": "execute_result",
          "data": {
            "text/html": [
              "<div>\n",
              "<style scoped>\n",
              "    .dataframe tbody tr th:only-of-type {\n",
              "        vertical-align: middle;\n",
              "    }\n",
              "\n",
              "    .dataframe tbody tr th {\n",
              "        vertical-align: top;\n",
              "    }\n",
              "\n",
              "    .dataframe thead th {\n",
              "        text-align: right;\n",
              "    }\n",
              "</style>\n",
              "<table border=\"1\" class=\"dataframe\">\n",
              "  <thead>\n",
              "    <tr style=\"text-align: right;\">\n",
              "      <th></th>\n",
              "      <th>reais</th>\n",
              "      <th>reais_mais_0.01</th>\n",
              "      <th>reais_mais_0.50</th>\n",
              "      <th>reais_mais_0.51</th>\n",
              "    </tr>\n",
              "  </thead>\n",
              "  <tbody>\n",
              "    <tr>\n",
              "      <th>0</th>\n",
              "      <td>0.0</td>\n",
              "      <td>0.01</td>\n",
              "      <td>0.5</td>\n",
              "      <td>0.51</td>\n",
              "    </tr>\n",
              "    <tr>\n",
              "      <th>1</th>\n",
              "      <td>1.0</td>\n",
              "      <td>1.01</td>\n",
              "      <td>1.5</td>\n",
              "      <td>1.51</td>\n",
              "    </tr>\n",
              "    <tr>\n",
              "      <th>2</th>\n",
              "      <td>2.0</td>\n",
              "      <td>2.01</td>\n",
              "      <td>2.5</td>\n",
              "      <td>2.51</td>\n",
              "    </tr>\n",
              "    <tr>\n",
              "      <th>3</th>\n",
              "      <td>3.0</td>\n",
              "      <td>3.01</td>\n",
              "      <td>3.5</td>\n",
              "      <td>3.51</td>\n",
              "    </tr>\n",
              "    <tr>\n",
              "      <th>4</th>\n",
              "      <td>4.0</td>\n",
              "      <td>4.01</td>\n",
              "      <td>4.5</td>\n",
              "      <td>4.51</td>\n",
              "    </tr>\n",
              "    <tr>\n",
              "      <th>5</th>\n",
              "      <td>5.0</td>\n",
              "      <td>5.01</td>\n",
              "      <td>5.5</td>\n",
              "      <td>5.51</td>\n",
              "    </tr>\n",
              "    <tr>\n",
              "      <th>6</th>\n",
              "      <td>6.0</td>\n",
              "      <td>6.01</td>\n",
              "      <td>6.5</td>\n",
              "      <td>6.51</td>\n",
              "    </tr>\n",
              "    <tr>\n",
              "      <th>7</th>\n",
              "      <td>7.0</td>\n",
              "      <td>7.01</td>\n",
              "      <td>7.5</td>\n",
              "      <td>7.51</td>\n",
              "    </tr>\n",
              "    <tr>\n",
              "      <th>8</th>\n",
              "      <td>8.0</td>\n",
              "      <td>8.01</td>\n",
              "      <td>8.5</td>\n",
              "      <td>8.51</td>\n",
              "    </tr>\n",
              "    <tr>\n",
              "      <th>9</th>\n",
              "      <td>9.0</td>\n",
              "      <td>9.01</td>\n",
              "      <td>9.5</td>\n",
              "      <td>9.51</td>\n",
              "    </tr>\n",
              "    <tr>\n",
              "      <th>10</th>\n",
              "      <td>10.0</td>\n",
              "      <td>10.01</td>\n",
              "      <td>10.5</td>\n",
              "      <td>10.51</td>\n",
              "    </tr>\n",
              "  </tbody>\n",
              "</table>\n",
              "</div>"
            ],
            "text/plain": [
              "    reais  reais_mais_0.01  reais_mais_0.50  reais_mais_0.51\n",
              "0     0.0             0.01              0.5             0.51\n",
              "1     1.0             1.01              1.5             1.51\n",
              "2     2.0             2.01              2.5             2.51\n",
              "3     3.0             3.01              3.5             3.51\n",
              "4     4.0             4.01              4.5             4.51\n",
              "5     5.0             5.01              5.5             5.51\n",
              "6     6.0             6.01              6.5             6.51\n",
              "7     7.0             7.01              7.5             7.51\n",
              "8     8.0             8.01              8.5             8.51\n",
              "9     9.0             9.01              9.5             9.51\n",
              "10   10.0            10.01             10.5            10.51"
            ]
          },
          "metadata": {
            "tags": []
          },
          "execution_count": 13
        }
      ]
    },
    {
      "cell_type": "code",
      "metadata": {
        "colab": {
          "base_uri": "https://localhost:8080/",
          "height": 410
        },
        "id": "wVdGsMVnIpm4",
        "outputId": "651cec05-0333-4d0c-d553-a5b6ec83d80b"
      },
      "source": [
        "import numpy as np\r\n",
        "\r\n",
        "origens = ['reais','reais_mais_0.01','reais_mais_0.50','reais_mais_0.51']\r\n",
        "conversoes = [int,np.floor,np.round,np.ceil]\r\n",
        "destinos = []\r\n",
        "for origem in origens:\r\n",
        "  for conversao in conversoes:\r\n",
        "    destino=f'{origem}_convertido_por_{conversao.__name__}'\r\n",
        "    df[destino]=df[origem].apply(conversao)\r\n",
        "    destinos.append(destino)\r\n",
        "df[origens+destinos]"
      ],
      "execution_count": 14,
      "outputs": [
        {
          "output_type": "execute_result",
          "data": {
            "text/html": [
              "<div>\n",
              "<style scoped>\n",
              "    .dataframe tbody tr th:only-of-type {\n",
              "        vertical-align: middle;\n",
              "    }\n",
              "\n",
              "    .dataframe tbody tr th {\n",
              "        vertical-align: top;\n",
              "    }\n",
              "\n",
              "    .dataframe thead th {\n",
              "        text-align: right;\n",
              "    }\n",
              "</style>\n",
              "<table border=\"1\" class=\"dataframe\">\n",
              "  <thead>\n",
              "    <tr style=\"text-align: right;\">\n",
              "      <th></th>\n",
              "      <th>reais</th>\n",
              "      <th>reais_mais_0.01</th>\n",
              "      <th>reais_mais_0.50</th>\n",
              "      <th>reais_mais_0.51</th>\n",
              "      <th>reais_convertido_por_int</th>\n",
              "      <th>reais_convertido_por_floor</th>\n",
              "      <th>reais_convertido_por_round_</th>\n",
              "      <th>reais_convertido_por_ceil</th>\n",
              "      <th>reais_mais_0.01_convertido_por_int</th>\n",
              "      <th>reais_mais_0.01_convertido_por_floor</th>\n",
              "      <th>reais_mais_0.01_convertido_por_round_</th>\n",
              "      <th>reais_mais_0.01_convertido_por_ceil</th>\n",
              "      <th>reais_mais_0.50_convertido_por_int</th>\n",
              "      <th>reais_mais_0.50_convertido_por_floor</th>\n",
              "      <th>reais_mais_0.50_convertido_por_round_</th>\n",
              "      <th>reais_mais_0.50_convertido_por_ceil</th>\n",
              "      <th>reais_mais_0.51_convertido_por_int</th>\n",
              "      <th>reais_mais_0.51_convertido_por_floor</th>\n",
              "      <th>reais_mais_0.51_convertido_por_round_</th>\n",
              "      <th>reais_mais_0.51_convertido_por_ceil</th>\n",
              "    </tr>\n",
              "  </thead>\n",
              "  <tbody>\n",
              "    <tr>\n",
              "      <th>0</th>\n",
              "      <td>0.0</td>\n",
              "      <td>0.01</td>\n",
              "      <td>0.5</td>\n",
              "      <td>0.51</td>\n",
              "      <td>0</td>\n",
              "      <td>0.0</td>\n",
              "      <td>0.0</td>\n",
              "      <td>0.0</td>\n",
              "      <td>0</td>\n",
              "      <td>0.0</td>\n",
              "      <td>0.0</td>\n",
              "      <td>1.0</td>\n",
              "      <td>0</td>\n",
              "      <td>0.0</td>\n",
              "      <td>0.0</td>\n",
              "      <td>1.0</td>\n",
              "      <td>0</td>\n",
              "      <td>0.0</td>\n",
              "      <td>1.0</td>\n",
              "      <td>1.0</td>\n",
              "    </tr>\n",
              "    <tr>\n",
              "      <th>1</th>\n",
              "      <td>1.0</td>\n",
              "      <td>1.01</td>\n",
              "      <td>1.5</td>\n",
              "      <td>1.51</td>\n",
              "      <td>1</td>\n",
              "      <td>1.0</td>\n",
              "      <td>1.0</td>\n",
              "      <td>1.0</td>\n",
              "      <td>1</td>\n",
              "      <td>1.0</td>\n",
              "      <td>1.0</td>\n",
              "      <td>2.0</td>\n",
              "      <td>1</td>\n",
              "      <td>1.0</td>\n",
              "      <td>2.0</td>\n",
              "      <td>2.0</td>\n",
              "      <td>1</td>\n",
              "      <td>1.0</td>\n",
              "      <td>2.0</td>\n",
              "      <td>2.0</td>\n",
              "    </tr>\n",
              "    <tr>\n",
              "      <th>2</th>\n",
              "      <td>2.0</td>\n",
              "      <td>2.01</td>\n",
              "      <td>2.5</td>\n",
              "      <td>2.51</td>\n",
              "      <td>2</td>\n",
              "      <td>2.0</td>\n",
              "      <td>2.0</td>\n",
              "      <td>2.0</td>\n",
              "      <td>2</td>\n",
              "      <td>2.0</td>\n",
              "      <td>2.0</td>\n",
              "      <td>3.0</td>\n",
              "      <td>2</td>\n",
              "      <td>2.0</td>\n",
              "      <td>2.0</td>\n",
              "      <td>3.0</td>\n",
              "      <td>2</td>\n",
              "      <td>2.0</td>\n",
              "      <td>3.0</td>\n",
              "      <td>3.0</td>\n",
              "    </tr>\n",
              "    <tr>\n",
              "      <th>3</th>\n",
              "      <td>3.0</td>\n",
              "      <td>3.01</td>\n",
              "      <td>3.5</td>\n",
              "      <td>3.51</td>\n",
              "      <td>3</td>\n",
              "      <td>3.0</td>\n",
              "      <td>3.0</td>\n",
              "      <td>3.0</td>\n",
              "      <td>3</td>\n",
              "      <td>3.0</td>\n",
              "      <td>3.0</td>\n",
              "      <td>4.0</td>\n",
              "      <td>3</td>\n",
              "      <td>3.0</td>\n",
              "      <td>4.0</td>\n",
              "      <td>4.0</td>\n",
              "      <td>3</td>\n",
              "      <td>3.0</td>\n",
              "      <td>4.0</td>\n",
              "      <td>4.0</td>\n",
              "    </tr>\n",
              "    <tr>\n",
              "      <th>4</th>\n",
              "      <td>4.0</td>\n",
              "      <td>4.01</td>\n",
              "      <td>4.5</td>\n",
              "      <td>4.51</td>\n",
              "      <td>4</td>\n",
              "      <td>4.0</td>\n",
              "      <td>4.0</td>\n",
              "      <td>4.0</td>\n",
              "      <td>4</td>\n",
              "      <td>4.0</td>\n",
              "      <td>4.0</td>\n",
              "      <td>5.0</td>\n",
              "      <td>4</td>\n",
              "      <td>4.0</td>\n",
              "      <td>4.0</td>\n",
              "      <td>5.0</td>\n",
              "      <td>4</td>\n",
              "      <td>4.0</td>\n",
              "      <td>5.0</td>\n",
              "      <td>5.0</td>\n",
              "    </tr>\n",
              "    <tr>\n",
              "      <th>5</th>\n",
              "      <td>5.0</td>\n",
              "      <td>5.01</td>\n",
              "      <td>5.5</td>\n",
              "      <td>5.51</td>\n",
              "      <td>5</td>\n",
              "      <td>5.0</td>\n",
              "      <td>5.0</td>\n",
              "      <td>5.0</td>\n",
              "      <td>5</td>\n",
              "      <td>5.0</td>\n",
              "      <td>5.0</td>\n",
              "      <td>6.0</td>\n",
              "      <td>5</td>\n",
              "      <td>5.0</td>\n",
              "      <td>6.0</td>\n",
              "      <td>6.0</td>\n",
              "      <td>5</td>\n",
              "      <td>5.0</td>\n",
              "      <td>6.0</td>\n",
              "      <td>6.0</td>\n",
              "    </tr>\n",
              "    <tr>\n",
              "      <th>6</th>\n",
              "      <td>6.0</td>\n",
              "      <td>6.01</td>\n",
              "      <td>6.5</td>\n",
              "      <td>6.51</td>\n",
              "      <td>6</td>\n",
              "      <td>6.0</td>\n",
              "      <td>6.0</td>\n",
              "      <td>6.0</td>\n",
              "      <td>6</td>\n",
              "      <td>6.0</td>\n",
              "      <td>6.0</td>\n",
              "      <td>7.0</td>\n",
              "      <td>6</td>\n",
              "      <td>6.0</td>\n",
              "      <td>6.0</td>\n",
              "      <td>7.0</td>\n",
              "      <td>6</td>\n",
              "      <td>6.0</td>\n",
              "      <td>7.0</td>\n",
              "      <td>7.0</td>\n",
              "    </tr>\n",
              "    <tr>\n",
              "      <th>7</th>\n",
              "      <td>7.0</td>\n",
              "      <td>7.01</td>\n",
              "      <td>7.5</td>\n",
              "      <td>7.51</td>\n",
              "      <td>7</td>\n",
              "      <td>7.0</td>\n",
              "      <td>7.0</td>\n",
              "      <td>7.0</td>\n",
              "      <td>7</td>\n",
              "      <td>7.0</td>\n",
              "      <td>7.0</td>\n",
              "      <td>8.0</td>\n",
              "      <td>7</td>\n",
              "      <td>7.0</td>\n",
              "      <td>8.0</td>\n",
              "      <td>8.0</td>\n",
              "      <td>7</td>\n",
              "      <td>7.0</td>\n",
              "      <td>8.0</td>\n",
              "      <td>8.0</td>\n",
              "    </tr>\n",
              "    <tr>\n",
              "      <th>8</th>\n",
              "      <td>8.0</td>\n",
              "      <td>8.01</td>\n",
              "      <td>8.5</td>\n",
              "      <td>8.51</td>\n",
              "      <td>8</td>\n",
              "      <td>8.0</td>\n",
              "      <td>8.0</td>\n",
              "      <td>8.0</td>\n",
              "      <td>8</td>\n",
              "      <td>8.0</td>\n",
              "      <td>8.0</td>\n",
              "      <td>9.0</td>\n",
              "      <td>8</td>\n",
              "      <td>8.0</td>\n",
              "      <td>8.0</td>\n",
              "      <td>9.0</td>\n",
              "      <td>8</td>\n",
              "      <td>8.0</td>\n",
              "      <td>9.0</td>\n",
              "      <td>9.0</td>\n",
              "    </tr>\n",
              "    <tr>\n",
              "      <th>9</th>\n",
              "      <td>9.0</td>\n",
              "      <td>9.01</td>\n",
              "      <td>9.5</td>\n",
              "      <td>9.51</td>\n",
              "      <td>9</td>\n",
              "      <td>9.0</td>\n",
              "      <td>9.0</td>\n",
              "      <td>9.0</td>\n",
              "      <td>9</td>\n",
              "      <td>9.0</td>\n",
              "      <td>9.0</td>\n",
              "      <td>10.0</td>\n",
              "      <td>9</td>\n",
              "      <td>9.0</td>\n",
              "      <td>10.0</td>\n",
              "      <td>10.0</td>\n",
              "      <td>9</td>\n",
              "      <td>9.0</td>\n",
              "      <td>10.0</td>\n",
              "      <td>10.0</td>\n",
              "    </tr>\n",
              "    <tr>\n",
              "      <th>10</th>\n",
              "      <td>10.0</td>\n",
              "      <td>10.01</td>\n",
              "      <td>10.5</td>\n",
              "      <td>10.51</td>\n",
              "      <td>10</td>\n",
              "      <td>10.0</td>\n",
              "      <td>10.0</td>\n",
              "      <td>10.0</td>\n",
              "      <td>10</td>\n",
              "      <td>10.0</td>\n",
              "      <td>10.0</td>\n",
              "      <td>11.0</td>\n",
              "      <td>10</td>\n",
              "      <td>10.0</td>\n",
              "      <td>10.0</td>\n",
              "      <td>11.0</td>\n",
              "      <td>10</td>\n",
              "      <td>10.0</td>\n",
              "      <td>11.0</td>\n",
              "      <td>11.0</td>\n",
              "    </tr>\n",
              "  </tbody>\n",
              "</table>\n",
              "</div>"
            ],
            "text/plain": [
              "    reais  ...  reais_mais_0.51_convertido_por_ceil\n",
              "0     0.0  ...                                  1.0\n",
              "1     1.0  ...                                  2.0\n",
              "2     2.0  ...                                  3.0\n",
              "3     3.0  ...                                  4.0\n",
              "4     4.0  ...                                  5.0\n",
              "5     5.0  ...                                  6.0\n",
              "6     6.0  ...                                  7.0\n",
              "7     7.0  ...                                  8.0\n",
              "8     8.0  ...                                  9.0\n",
              "9     9.0  ...                                 10.0\n",
              "10   10.0  ...                                 11.0\n",
              "\n",
              "[11 rows x 20 columns]"
            ]
          },
          "metadata": {
            "tags": []
          },
          "execution_count": 14
        }
      ]
    },
    {
      "cell_type": "markdown",
      "metadata": {
        "id": "mBJOxJ5PV9zS"
      },
      "source": [
        "# Atenção para os tipos obtidos em cada conversão:"
      ]
    },
    {
      "cell_type": "code",
      "metadata": {
        "colab": {
          "base_uri": "https://localhost:8080/"
        },
        "id": "cOvw4UvvOLVM",
        "outputId": "eb6f7a48-69bd-4d41-ae48-37f68f24859c"
      },
      "source": [
        "df.info()"
      ],
      "execution_count": 15,
      "outputs": [
        {
          "output_type": "stream",
          "text": [
            "<class 'pandas.core.frame.DataFrame'>\n",
            "RangeIndex: 11 entries, 0 to 10\n",
            "Data columns (total 26 columns):\n",
            " #   Column                                 Non-Null Count  Dtype  \n",
            "---  ------                                 --------------  -----  \n",
            " 0   inteiros                               11 non-null     int64  \n",
            " 1   reais                                  11 non-null     float64\n",
            " 2   strings                                11 non-null     object \n",
            " 3   reais_para_inteiros                    11 non-null     int64  \n",
            " 4   strings_para_inteiros                  11 non-null     int64  \n",
            " 5   strings_usando_slice                   11 non-null     object \n",
            " 6   strings_para_formato_BR                11 non-null     object \n",
            " 7   reais_mais_0.01                        11 non-null     float64\n",
            " 8   reais_mais_0.50                        11 non-null     float64\n",
            " 9   reais_mais_0.51                        11 non-null     float64\n",
            " 10  reais_convertido_por_int               11 non-null     int64  \n",
            " 11  reais_convertido_por_floor             11 non-null     float64\n",
            " 12  reais_convertido_por_round_            11 non-null     float64\n",
            " 13  reais_convertido_por_ceil              11 non-null     float64\n",
            " 14  reais_mais_0.01_convertido_por_int     11 non-null     int64  \n",
            " 15  reais_mais_0.01_convertido_por_floor   11 non-null     float64\n",
            " 16  reais_mais_0.01_convertido_por_round_  11 non-null     float64\n",
            " 17  reais_mais_0.01_convertido_por_ceil    11 non-null     float64\n",
            " 18  reais_mais_0.50_convertido_por_int     11 non-null     int64  \n",
            " 19  reais_mais_0.50_convertido_por_floor   11 non-null     float64\n",
            " 20  reais_mais_0.50_convertido_por_round_  11 non-null     float64\n",
            " 21  reais_mais_0.50_convertido_por_ceil    11 non-null     float64\n",
            " 22  reais_mais_0.51_convertido_por_int     11 non-null     int64  \n",
            " 23  reais_mais_0.51_convertido_por_floor   11 non-null     float64\n",
            " 24  reais_mais_0.51_convertido_por_round_  11 non-null     float64\n",
            " 25  reais_mais_0.51_convertido_por_ceil    11 non-null     float64\n",
            "dtypes: float64(16), int64(7), object(3)\n",
            "memory usage: 2.4+ KB\n"
          ],
          "name": "stdout"
        }
      ]
    }
  ]
}