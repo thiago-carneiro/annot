{
  "nbformat": 4,
  "nbformat_minor": 0,
  "metadata": {
    "colab": {
      "name": "trust_game.ipynb",
      "provenance": [],
      "collapsed_sections": [],
      "authorship_tag": "ABX9TyMFHGvXkHZzMRQOuvAUjxvs",
      "include_colab_link": true
    },
    "kernelspec": {
      "name": "python3",
      "display_name": "Python 3"
    },
    "language_info": {
      "name": "python"
    }
  },
  "cells": [
    {
      "cell_type": "markdown",
      "metadata": {
        "id": "view-in-github",
        "colab_type": "text"
      },
      "source": [
        "<a href=\"https://colab.research.google.com/github/thiago-carneiro/annot/blob/main/trust_game.ipynb\" target=\"_parent\"><img src=\"https://colab.research.google.com/assets/colab-badge.svg\" alt=\"Open In Colab\"/></a>"
      ]
    },
    {
      "cell_type": "markdown",
      "metadata": {
        "id": "N0Fe7xWqlNUx"
      },
      "source": [
        "# Trust Game\n",
        "Inspired on [\"The Evolution of Thrust\"](https://ncase.me/trust/) - the source code for which is hosted at [GitHub](https://github.com/ncase/trust/#play-it-here-httpncasemetrust), too (but the codes are different).\n",
        "\n",
        "Just like Nicky Case's work, this one is also licensed under [CC Zero](https://github.com/thiago-carneiro/annot/blob/main/LICENSE)."
      ]
    },
    {
      "cell_type": "markdown",
      "metadata": {
        "id": "2rGTdpyUnWjE"
      },
      "source": [
        "The initial purpose of this notebook is to simply implement the game in python.\n",
        "Later we may explore the effects of some small changes (I'd like to try having actors \"consume\" their wealth each round, for example) and possibly generate data for a ML approach."
      ]
    },
    {
      "cell_type": "markdown",
      "metadata": {
        "id": "wCf2lRcBlCBl"
      },
      "source": [
        "## Init"
      ]
    },
    {
      "cell_type": "code",
      "metadata": {
        "id": "AHcHzY-jtlGD"
      },
      "source": [
        "import numpy as np"
      ],
      "execution_count": null,
      "outputs": []
    },
    {
      "cell_type": "markdown",
      "metadata": {
        "id": "dB8UCSxkOqe5"
      },
      "source": [
        "### Parâmetros gerais\n",
        "\n",
        "TODO:\n",
        "- Implementar dentro da classe Game"
      ]
    },
    {
      "cell_type": "code",
      "metadata": {
        "id": "PLuVYX9ChUj9"
      },
      "source": [
        "nice=2\n",
        "cheaten=-1\n",
        "cheated=3\n",
        "cheaters=0\n",
        "\n",
        "payoffs = {'cooperate':\\\n",
        "            {'cooperate':(nice,nice),'cheat':(cheaten,cheated)},\\\n",
        "           'cheat':\\\n",
        "            {'cooperate':(cheated,cheaten),'cheat':(cheaters,cheaters)}}\n",
        "\n",
        "rounds_per_match = 10\n",
        "\n",
        "turnover_rate = 5\n",
        "\n",
        "mistake_chance = 0.05\n",
        "\n",
        "plays = ['cooperate','cheat']"
      ],
      "execution_count": null,
      "outputs": []
    },
    {
      "cell_type": "markdown",
      "metadata": {
        "id": "nBCpCMeSOwhU"
      },
      "source": [
        "### ACTOR\n",
        "\n",
        "Classe base para os atores do jogo. Joga aleatoriamente.\n",
        "\n",
        "TO DO:\n",
        "- implementar os demais tipos de atores\n",
        "- implementar um nome e memória de jogadas anteriores"
      ]
    },
    {
      "cell_type": "code",
      "metadata": {
        "id": "RGPNkH36pqT6"
      },
      "source": [
        "class Actor:\n",
        "  def __init__(self,wealth=5):\n",
        "    self.init_wealth=wealth\n",
        "    self.wealth=wealth\n",
        "    self.behaviour='Random'\n",
        "    self.score=0\n",
        "    self.cheated=False\n",
        "  \n",
        "  def __repr__(self):\n",
        "    return f'{self.behaviour}\\t{self.score}\\t{self.wealth}'\n",
        "  \n",
        "  def __int__(self):\n",
        "    return self.wealth\n",
        "  \n",
        "  def __lt__(self,actor2):\n",
        "    return self.wealth < actor2.wealth\n",
        "\n",
        "  def play(self):\n",
        "    return plays[np.random.randint(0,2)]\n",
        "  \n",
        "  def collect(self,gain,cheated):\n",
        "    self.wealth+=gain\n",
        "    self.score+=gain\n",
        "    self.cheated=cheated\n",
        "  \n",
        "  def upkeep(self):\n",
        "    self.wealth-=1\n",
        "  \n",
        "  def reset_wealth(self):\n",
        "    self.wealth = self.init_wealth"
      ],
      "execution_count": 14,
      "outputs": []
    },
    {
      "cell_type": "markdown",
      "metadata": {
        "id": "aoz-HBAPQm8C"
      },
      "source": [
        "### GAME\n",
        "\n",
        "TODO:\n",
        "- Incluir os parâmetros gerais como atributos.\n",
        "- Modificar o cleanup para remover os atores com wealth negativo e prover algum tipo de \"herança\" e \"poupança\""
      ]
    },
    {
      "cell_type": "code",
      "metadata": {
        "id": "7ay3sOyPwGuP"
      },
      "source": [
        "class Game:\n",
        "  def __init__(self,actors):\n",
        "    self.actors=actors\n",
        "  \n",
        "  def round(self):\n",
        "    for i, actor in enumerate(self.actors):\n",
        "      actor.upkeep()\n",
        "#      if i == len(self.actors)-1:\n",
        "#        break\n",
        "      for j, opponent in enumerate(self.actors[i+1:]):\n",
        "        opponent_play = opponent.play()\n",
        "        actor_play = actor.play()\n",
        "        result = payoffs[actor_play][opponent_play]\n",
        "        actor.collect(result[0],opponent_play)\n",
        "        opponent.collect(result[0],actor_play)\n",
        "      #print(actor)\n",
        "\n",
        "      #print(actor)\n",
        "    #print(self.actors)\n",
        "\n",
        "  def cleanup(self):\n",
        "#    print(f'actors: {self.actors}')\n",
        "    top = sorted(self.actors,reverse=True)[:turnover_rate]\n",
        "    bottom = sorted(self.actors)[:turnover_rate]\n",
        "    for actor in bottom:\n",
        "      self.actors.remove(actor)\n",
        "    for actor in self.actors:\n",
        "      actor.reset_wealth()\n",
        "    clones = [actor.__class__() for actor in top]\n",
        "#    print(f'top: {top}')\n",
        "#    print(f'bottom: {bottom}')\n",
        "#    print(f'clones: {clones}')\n",
        "    self.actors=self.actors+clones\n",
        "  \n",
        "  def match(self):\n",
        "    for i in range(rounds_per_match):\n",
        "      self.round()\n",
        "    self.cleanup()\n",
        "\n",
        "  def scores(self):\n",
        "    for actor in sorted(self.actors,reverse=True,\\\n",
        "                        key=(lambda x:x.score)):\n",
        "      print(actor)"
      ],
      "execution_count": 16,
      "outputs": []
    },
    {
      "cell_type": "code",
      "metadata": {
        "colab": {
          "base_uri": "https://localhost:8080/"
        },
        "id": "apetMYPmQLVz",
        "outputId": "95e35d70-a646-4cac-a949-f810e83ee225"
      },
      "source": [
        "actors = [Actor() for i in range(100)]\n",
        "print(actors)\n",
        "game = Game(actors)\n",
        "print(game.actors)\n",
        "for i in range(10):\n",
        "#  print(f'round: {i}')\n",
        "  game.match()\n",
        "game.scores()"
      ],
      "execution_count": 17,
      "outputs": [
        {
          "output_type": "stream",
          "text": [
            "[Random\t0\t5, Random\t0\t5, Random\t0\t5, Random\t0\t5, Random\t0\t5, Random\t0\t5, Random\t0\t5, Random\t0\t5, Random\t0\t5, Random\t0\t5, Random\t0\t5, Random\t0\t5, Random\t0\t5, Random\t0\t5, Random\t0\t5, Random\t0\t5, Random\t0\t5, Random\t0\t5, Random\t0\t5, Random\t0\t5, Random\t0\t5, Random\t0\t5, Random\t0\t5, Random\t0\t5, Random\t0\t5, Random\t0\t5, Random\t0\t5, Random\t0\t5, Random\t0\t5, Random\t0\t5, Random\t0\t5, Random\t0\t5, Random\t0\t5, Random\t0\t5, Random\t0\t5, Random\t0\t5, Random\t0\t5, Random\t0\t5, Random\t0\t5, Random\t0\t5, Random\t0\t5, Random\t0\t5, Random\t0\t5, Random\t0\t5, Random\t0\t5, Random\t0\t5, Random\t0\t5, Random\t0\t5, Random\t0\t5, Random\t0\t5, Random\t0\t5, Random\t0\t5, Random\t0\t5, Random\t0\t5, Random\t0\t5, Random\t0\t5, Random\t0\t5, Random\t0\t5, Random\t0\t5, Random\t0\t5, Random\t0\t5, Random\t0\t5, Random\t0\t5, Random\t0\t5, Random\t0\t5, Random\t0\t5, Random\t0\t5, Random\t0\t5, Random\t0\t5, Random\t0\t5, Random\t0\t5, Random\t0\t5, Random\t0\t5, Random\t0\t5, Random\t0\t5, Random\t0\t5, Random\t0\t5, Random\t0\t5, Random\t0\t5, Random\t0\t5, Random\t0\t5, Random\t0\t5, Random\t0\t5, Random\t0\t5, Random\t0\t5, Random\t0\t5, Random\t0\t5, Random\t0\t5, Random\t0\t5, Random\t0\t5, Random\t0\t5, Random\t0\t5, Random\t0\t5, Random\t0\t5, Random\t0\t5, Random\t0\t5, Random\t0\t5, Random\t0\t5, Random\t0\t5, Random\t0\t5]\n",
            "[Random\t0\t5, Random\t0\t5, Random\t0\t5, Random\t0\t5, Random\t0\t5, Random\t0\t5, Random\t0\t5, Random\t0\t5, Random\t0\t5, Random\t0\t5, Random\t0\t5, Random\t0\t5, Random\t0\t5, Random\t0\t5, Random\t0\t5, Random\t0\t5, Random\t0\t5, Random\t0\t5, Random\t0\t5, Random\t0\t5, Random\t0\t5, Random\t0\t5, Random\t0\t5, Random\t0\t5, Random\t0\t5, Random\t0\t5, Random\t0\t5, Random\t0\t5, Random\t0\t5, Random\t0\t5, Random\t0\t5, Random\t0\t5, Random\t0\t5, Random\t0\t5, Random\t0\t5, Random\t0\t5, Random\t0\t5, Random\t0\t5, Random\t0\t5, Random\t0\t5, Random\t0\t5, Random\t0\t5, Random\t0\t5, Random\t0\t5, Random\t0\t5, Random\t0\t5, Random\t0\t5, Random\t0\t5, Random\t0\t5, Random\t0\t5, Random\t0\t5, Random\t0\t5, Random\t0\t5, Random\t0\t5, Random\t0\t5, Random\t0\t5, Random\t0\t5, Random\t0\t5, Random\t0\t5, Random\t0\t5, Random\t0\t5, Random\t0\t5, Random\t0\t5, Random\t0\t5, Random\t0\t5, Random\t0\t5, Random\t0\t5, Random\t0\t5, Random\t0\t5, Random\t0\t5, Random\t0\t5, Random\t0\t5, Random\t0\t5, Random\t0\t5, Random\t0\t5, Random\t0\t5, Random\t0\t5, Random\t0\t5, Random\t0\t5, Random\t0\t5, Random\t0\t5, Random\t0\t5, Random\t0\t5, Random\t0\t5, Random\t0\t5, Random\t0\t5, Random\t0\t5, Random\t0\t5, Random\t0\t5, Random\t0\t5, Random\t0\t5, Random\t0\t5, Random\t0\t5, Random\t0\t5, Random\t0\t5, Random\t0\t5, Random\t0\t5, Random\t0\t5, Random\t0\t5, Random\t0\t5]\n",
            "Random\t10145\t5\n",
            "Random\t10143\t5\n",
            "Random\t10128\t5\n",
            "Random\t10125\t5\n",
            "Random\t10115\t5\n",
            "Random\t10108\t5\n",
            "Random\t10102\t5\n",
            "Random\t10095\t5\n",
            "Random\t10080\t5\n",
            "Random\t10078\t5\n",
            "Random\t10073\t5\n",
            "Random\t10073\t5\n",
            "Random\t10061\t5\n",
            "Random\t10041\t5\n",
            "Random\t10039\t5\n",
            "Random\t10036\t5\n",
            "Random\t10020\t5\n",
            "Random\t10009\t5\n",
            "Random\t10005\t5\n",
            "Random\t10002\t5\n",
            "Random\t9994\t5\n",
            "Random\t9978\t5\n",
            "Random\t9966\t5\n",
            "Random\t9962\t5\n",
            "Random\t9958\t5\n",
            "Random\t9954\t5\n",
            "Random\t9946\t5\n",
            "Random\t9940\t5\n",
            "Random\t9938\t5\n",
            "Random\t9937\t5\n",
            "Random\t9922\t5\n",
            "Random\t9919\t5\n",
            "Random\t9918\t5\n",
            "Random\t9917\t5\n",
            "Random\t9915\t5\n",
            "Random\t9906\t5\n",
            "Random\t9899\t5\n",
            "Random\t9899\t5\n",
            "Random\t9893\t5\n",
            "Random\t9889\t5\n",
            "Random\t9887\t5\n",
            "Random\t9877\t5\n",
            "Random\t9877\t5\n",
            "Random\t9860\t5\n",
            "Random\t9856\t5\n",
            "Random\t9856\t5\n",
            "Random\t9851\t5\n",
            "Random\t9849\t5\n",
            "Random\t9836\t5\n",
            "Random\t9818\t5\n",
            "Random\t9812\t5\n",
            "Random\t9805\t5\n",
            "Random\t9801\t5\n",
            "Random\t9794\t5\n",
            "Random\t9741\t5\n",
            "Random\t9734\t5\n",
            "Random\t9706\t5\n",
            "Random\t9650\t5\n",
            "Random\t9597\t5\n",
            "Random\t8976\t5\n",
            "Random\t8850\t5\n",
            "Random\t8789\t5\n",
            "Random\t8782\t5\n",
            "Random\t8185\t5\n",
            "Random\t8074\t5\n",
            "Random\t8005\t5\n",
            "Random\t7921\t5\n",
            "Random\t6925\t5\n",
            "Random\t6888\t5\n",
            "Random\t6123\t5\n",
            "Random\t6031\t5\n",
            "Random\t5864\t5\n",
            "Random\t5053\t5\n",
            "Random\t5006\t5\n",
            "Random\t4902\t5\n",
            "Random\t4833\t5\n",
            "Random\t4118\t5\n",
            "Random\t3983\t5\n",
            "Random\t3931\t5\n",
            "Random\t3861\t5\n",
            "Random\t3079\t5\n",
            "Random\t3042\t5\n",
            "Random\t2907\t5\n",
            "Random\t2881\t5\n",
            "Random\t2869\t5\n",
            "Random\t2038\t5\n",
            "Random\t2006\t5\n",
            "Random\t2003\t5\n",
            "Random\t1963\t5\n",
            "Random\t1902\t5\n",
            "Random\t1079\t5\n",
            "Random\t1054\t5\n",
            "Random\t982\t5\n",
            "Random\t935\t5\n",
            "Random\t929\t5\n",
            "Random\t0\t5\n",
            "Random\t0\t5\n",
            "Random\t0\t5\n",
            "Random\t0\t5\n",
            "Random\t0\t5\n"
          ],
          "name": "stdout"
        }
      ]
    }
  ]
}